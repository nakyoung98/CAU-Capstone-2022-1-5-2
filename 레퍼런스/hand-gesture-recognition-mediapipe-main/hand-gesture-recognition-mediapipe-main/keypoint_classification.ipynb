{
 "cells": [
  {
   "cell_type": "code",
   "execution_count": 360,
   "metadata": {},
   "outputs": [],
   "source": [
    "import csv\n",
    "\n",
    "import numpy as np\n",
    "import tensorflow as tf\n",
    "from sklearn.model_selection import train_test_split\n",
    "\n",
    "RANDOM_SEED = 42"
   ]
  },
  {
   "cell_type": "markdown",
   "metadata": {},
   "source": [
    "# 各パス指定"
   ]
  },
  {
   "cell_type": "code",
   "execution_count": 361,
   "metadata": {},
   "outputs": [],
   "source": [
    "dataset = 'model/keypoint_classifier/keypoint.csv'\n",
    "model_save_path = 'model/keypoint_classifier/keypoint_classifier.hdf5'"
   ]
  },
  {
   "cell_type": "markdown",
   "metadata": {},
   "source": [
    "# 分類数設定"
   ]
  },
  {
   "cell_type": "code",
   "execution_count": 362,
   "metadata": {},
   "outputs": [],
   "source": [
    "NUM_CLASSES = 4"
   ]
  },
  {
   "cell_type": "markdown",
   "metadata": {},
   "source": [
    "# 学習データ読み込み"
   ]
  },
  {
   "cell_type": "code",
   "execution_count": 363,
   "metadata": {},
   "outputs": [],
   "source": [
    "X_dataset = np.loadtxt(dataset, delimiter=',', dtype='float32', usecols=list(range(1, (21 * 2) + 1)))"
   ]
  },
  {
   "cell_type": "code",
   "execution_count": 364,
   "metadata": {},
   "outputs": [],
   "source": [
    "y_dataset = np.loadtxt(dataset, delimiter=',', dtype='int32', usecols=(0))"
   ]
  },
  {
   "cell_type": "code",
   "execution_count": 365,
   "metadata": {},
   "outputs": [],
   "source": [
    "X_train, X_test, y_train, y_test = train_test_split(X_dataset, y_dataset, train_size=0.75, random_state=RANDOM_SEED)"
   ]
  },
  {
   "cell_type": "markdown",
   "metadata": {},
   "source": [
    "# モデル構築"
   ]
  },
  {
   "cell_type": "code",
   "execution_count": 366,
   "metadata": {},
   "outputs": [],
   "source": [
    "model = tf.keras.models.Sequential([\n",
    "    tf.keras.layers.Input((21 * 2, )),\n",
    "    tf.keras.layers.Dropout(0.2),\n",
    "    tf.keras.layers.Dense(40, activation='relu'),\n",
    "    tf.keras.layers.Dropout(0.2),\n",
    "    tf.keras.layers.Dense(160, activation='relu'),\n",
    "    tf.keras.layers.Dropout(0.4),\n",
    "    tf.keras.layers.Dense(80, activation='relu'),\n",
    "    tf.keras.layers.Dropout(0.2),\n",
    "    tf.keras.layers.Dense(20, activation='relu'),\n",
    "    tf.keras.layers.Dense(NUM_CLASSES, activation='softmax')\n",
    "])"
   ]
  },
  {
   "cell_type": "code",
   "execution_count": 367,
   "metadata": {},
   "outputs": [
    {
     "name": "stdout",
     "output_type": "stream",
     "text": [
      "Model: \"sequential_16\"\n",
      "_________________________________________________________________\n",
      " Layer (type)                Output Shape              Param #   \n",
      "=================================================================\n",
      " dropout_52 (Dropout)        (None, 42)                0         \n",
      "                                                                 \n",
      " dense_68 (Dense)            (None, 40)                1720      \n",
      "                                                                 \n",
      " dropout_53 (Dropout)        (None, 40)                0         \n",
      "                                                                 \n",
      " dense_69 (Dense)            (None, 160)               6560      \n",
      "                                                                 \n",
      " dropout_54 (Dropout)        (None, 160)               0         \n",
      "                                                                 \n",
      " dense_70 (Dense)            (None, 80)                12880     \n",
      "                                                                 \n",
      " dropout_55 (Dropout)        (None, 80)                0         \n",
      "                                                                 \n",
      " dense_71 (Dense)            (None, 20)                1620      \n",
      "                                                                 \n",
      " dense_72 (Dense)            (None, 4)                 84        \n",
      "                                                                 \n",
      "=================================================================\n",
      "Total params: 22,864\n",
      "Trainable params: 22,864\n",
      "Non-trainable params: 0\n",
      "_________________________________________________________________\n"
     ]
    }
   ],
   "source": [
    "model.summary()  # tf.keras.utils.plot_model(model, show_shapes=True)"
   ]
  },
  {
   "cell_type": "code",
   "execution_count": 368,
   "metadata": {},
   "outputs": [],
   "source": [
    "# モデルチェックポイントのコールバック\n",
    "cp_callback = tf.keras.callbacks.ModelCheckpoint(\n",
    "    model_save_path, verbose=1, save_weights_only=False)\n",
    "# 早期打ち切り用コールバック\n",
    "es_callback = tf.keras.callbacks.EarlyStopping(patience=20, verbose=1)"
   ]
  },
  {
   "cell_type": "code",
   "execution_count": 369,
   "metadata": {},
   "outputs": [],
   "source": [
    "# モデルコンパイル\n",
    "model.compile(\n",
    "    optimizer='adam',\n",
    "    loss='sparse_categorical_crossentropy',\n",
    "    metrics=['accuracy']\n",
    ")"
   ]
  },
  {
   "cell_type": "markdown",
   "metadata": {},
   "source": [
    "# モデル訓練"
   ]
  },
  {
   "cell_type": "code",
   "execution_count": 370,
   "metadata": {
    "scrolled": true
   },
   "outputs": [
    {
     "name": "stdout",
     "output_type": "stream",
     "text": [
      "Epoch 1/1000\n",
      "21/22 [===========================>..] - ETA: 0s - loss: 1.3807 - accuracy: 0.3062\n",
      "Epoch 1: saving model to model/keypoint_classifier\\keypoint_classifier.hdf5\n",
      "22/22 [==============================] - 1s 10ms/step - loss: 1.3805 - accuracy: 0.3059 - val_loss: 1.3216 - val_accuracy: 0.5838\n",
      "Epoch 2/1000\n",
      "20/22 [==========================>...] - ETA: 0s - loss: 1.3099 - accuracy: 0.3914\n",
      "Epoch 2: saving model to model/keypoint_classifier\\keypoint_classifier.hdf5\n",
      "22/22 [==============================] - 0s 6ms/step - loss: 1.3087 - accuracy: 0.3893 - val_loss: 1.0984 - val_accuracy: 0.5316\n",
      "Epoch 3/1000\n",
      "20/22 [==========================>...] - ETA: 0s - loss: 1.1832 - accuracy: 0.4531\n",
      "Epoch 3: saving model to model/keypoint_classifier\\keypoint_classifier.hdf5\n",
      "22/22 [==============================] - 0s 6ms/step - loss: 1.1817 - accuracy: 0.4526 - val_loss: 0.8977 - val_accuracy: 0.5805\n",
      "Epoch 4/1000\n",
      "19/22 [========================>.....] - ETA: 0s - loss: 1.0862 - accuracy: 0.4762\n",
      "Epoch 4: saving model to model/keypoint_classifier\\keypoint_classifier.hdf5\n",
      "22/22 [==============================] - 0s 6ms/step - loss: 1.0844 - accuracy: 0.4789 - val_loss: 0.8405 - val_accuracy: 0.5472\n",
      "Epoch 5/1000\n",
      "20/22 [==========================>...] - ETA: 0s - loss: 1.0130 - accuracy: 0.5121\n",
      "Epoch 5: saving model to model/keypoint_classifier\\keypoint_classifier.hdf5\n",
      "22/22 [==============================] - 0s 6ms/step - loss: 1.0117 - accuracy: 0.5152 - val_loss: 0.7593 - val_accuracy: 0.7281\n",
      "Epoch 6/1000\n",
      "22/22 [==============================] - ETA: 0s - loss: 0.9718 - accuracy: 0.5278\n",
      "Epoch 6: saving model to model/keypoint_classifier\\keypoint_classifier.hdf5\n",
      "22/22 [==============================] - 0s 5ms/step - loss: 0.9718 - accuracy: 0.5278 - val_loss: 0.7783 - val_accuracy: 0.5938\n",
      "Epoch 7/1000\n",
      "22/22 [==============================] - ETA: 0s - loss: 0.9388 - accuracy: 0.5419\n",
      "Epoch 7: saving model to model/keypoint_classifier\\keypoint_classifier.hdf5\n",
      "22/22 [==============================] - 0s 5ms/step - loss: 0.9388 - accuracy: 0.5419 - val_loss: 0.7464 - val_accuracy: 0.5927\n",
      "Epoch 8/1000\n",
      "20/22 [==========================>...] - ETA: 0s - loss: 0.9102 - accuracy: 0.5547\n",
      "Epoch 8: saving model to model/keypoint_classifier\\keypoint_classifier.hdf5\n",
      "22/22 [==============================] - 0s 6ms/step - loss: 0.9068 - accuracy: 0.5581 - val_loss: 0.6758 - val_accuracy: 0.6792\n",
      "Epoch 9/1000\n",
      "19/22 [========================>.....] - ETA: 0s - loss: 0.8951 - accuracy: 0.5752\n",
      "Epoch 9: saving model to model/keypoint_classifier\\keypoint_classifier.hdf5\n",
      "22/22 [==============================] - 0s 6ms/step - loss: 0.9025 - accuracy: 0.5722 - val_loss: 0.6610 - val_accuracy: 0.7170\n",
      "Epoch 10/1000\n",
      "19/22 [========================>.....] - ETA: 0s - loss: 0.8730 - accuracy: 0.6036\n",
      "Epoch 10: saving model to model/keypoint_classifier\\keypoint_classifier.hdf5\n",
      "22/22 [==============================] - 0s 6ms/step - loss: 0.8673 - accuracy: 0.6074 - val_loss: 0.6526 - val_accuracy: 0.7758\n",
      "Epoch 11/1000\n",
      "19/22 [========================>.....] - ETA: 0s - loss: 0.8414 - accuracy: 0.5970\n",
      "Epoch 11: saving model to model/keypoint_classifier\\keypoint_classifier.hdf5\n",
      "22/22 [==============================] - 0s 6ms/step - loss: 0.8429 - accuracy: 0.6011 - val_loss: 0.6251 - val_accuracy: 0.7347\n",
      "Epoch 12/1000\n",
      "18/22 [=======================>......] - ETA: 0s - loss: 0.8169 - accuracy: 0.6189\n",
      "Epoch 12: saving model to model/keypoint_classifier\\keypoint_classifier.hdf5\n",
      "22/22 [==============================] - 0s 6ms/step - loss: 0.8162 - accuracy: 0.6211 - val_loss: 0.6095 - val_accuracy: 0.7303\n",
      "Epoch 13/1000\n",
      "20/22 [==========================>...] - ETA: 0s - loss: 0.8060 - accuracy: 0.6348\n",
      "Epoch 13: saving model to model/keypoint_classifier\\keypoint_classifier.hdf5\n",
      "22/22 [==============================] - 0s 6ms/step - loss: 0.8126 - accuracy: 0.6296 - val_loss: 0.5878 - val_accuracy: 0.7736\n",
      "Epoch 14/1000\n",
      "21/22 [===========================>..] - ETA: 0s - loss: 0.8020 - accuracy: 0.6395\n",
      "Epoch 14: saving model to model/keypoint_classifier\\keypoint_classifier.hdf5\n",
      "22/22 [==============================] - 0s 5ms/step - loss: 0.8014 - accuracy: 0.6404 - val_loss: 0.5905 - val_accuracy: 0.7836\n",
      "Epoch 15/1000\n",
      "20/22 [==========================>...] - ETA: 0s - loss: 0.7956 - accuracy: 0.6383\n",
      "Epoch 15: saving model to model/keypoint_classifier\\keypoint_classifier.hdf5\n",
      "22/22 [==============================] - 0s 5ms/step - loss: 0.7993 - accuracy: 0.6374 - val_loss: 0.5631 - val_accuracy: 0.7925\n",
      "Epoch 16/1000\n",
      "20/22 [==========================>...] - ETA: 0s - loss: 0.8010 - accuracy: 0.6320\n",
      "Epoch 16: saving model to model/keypoint_classifier\\keypoint_classifier.hdf5\n",
      "22/22 [==============================] - 0s 6ms/step - loss: 0.8005 - accuracy: 0.6322 - val_loss: 0.5481 - val_accuracy: 0.8069\n",
      "Epoch 17/1000\n",
      "21/22 [===========================>..] - ETA: 0s - loss: 0.7731 - accuracy: 0.6443\n",
      "Epoch 17: saving model to model/keypoint_classifier\\keypoint_classifier.hdf5\n",
      "22/22 [==============================] - 0s 5ms/step - loss: 0.7722 - accuracy: 0.6448 - val_loss: 0.5452 - val_accuracy: 0.8069\n",
      "Epoch 18/1000\n",
      "20/22 [==========================>...] - ETA: 0s - loss: 0.7837 - accuracy: 0.6531\n",
      "Epoch 18: saving model to model/keypoint_classifier\\keypoint_classifier.hdf5\n",
      "22/22 [==============================] - 0s 5ms/step - loss: 0.7813 - accuracy: 0.6537 - val_loss: 0.5514 - val_accuracy: 0.7902\n",
      "Epoch 19/1000\n",
      "20/22 [==========================>...] - ETA: 0s - loss: 0.7720 - accuracy: 0.6629\n",
      "Epoch 19: saving model to model/keypoint_classifier\\keypoint_classifier.hdf5\n",
      "22/22 [==============================] - 0s 5ms/step - loss: 0.7707 - accuracy: 0.6633 - val_loss: 0.5522 - val_accuracy: 0.8002\n",
      "Epoch 20/1000\n",
      "21/22 [===========================>..] - ETA: 0s - loss: 0.7479 - accuracy: 0.6652\n",
      "Epoch 20: saving model to model/keypoint_classifier\\keypoint_classifier.hdf5\n",
      "22/22 [==============================] - 0s 6ms/step - loss: 0.7470 - accuracy: 0.6656 - val_loss: 0.5272 - val_accuracy: 0.7980\n",
      "Epoch 21/1000\n",
      "19/22 [========================>.....] - ETA: 0s - loss: 0.7497 - accuracy: 0.6715\n",
      "Epoch 21: saving model to model/keypoint_classifier\\keypoint_classifier.hdf5\n",
      "22/22 [==============================] - 0s 6ms/step - loss: 0.7580 - accuracy: 0.6659 - val_loss: 0.5078 - val_accuracy: 0.8036\n",
      "Epoch 22/1000\n",
      "18/22 [=======================>......] - ETA: 0s - loss: 0.7391 - accuracy: 0.6727\n",
      "Epoch 22: saving model to model/keypoint_classifier\\keypoint_classifier.hdf5\n",
      "22/22 [==============================] - 0s 6ms/step - loss: 0.7332 - accuracy: 0.6752 - val_loss: 0.5156 - val_accuracy: 0.8257\n",
      "Epoch 23/1000\n",
      "19/22 [========================>.....] - ETA: 0s - loss: 0.7282 - accuracy: 0.6793\n",
      "Epoch 23: saving model to model/keypoint_classifier\\keypoint_classifier.hdf5\n",
      "22/22 [==============================] - 0s 6ms/step - loss: 0.7279 - accuracy: 0.6770 - val_loss: 0.4856 - val_accuracy: 0.7969\n",
      "Epoch 24/1000\n",
      "20/22 [==========================>...] - ETA: 0s - loss: 0.7200 - accuracy: 0.6840\n",
      "Epoch 24: saving model to model/keypoint_classifier\\keypoint_classifier.hdf5\n",
      "22/22 [==============================] - 0s 6ms/step - loss: 0.7198 - accuracy: 0.6841 - val_loss: 0.4869 - val_accuracy: 0.7991\n",
      "Epoch 25/1000\n",
      "19/22 [========================>.....] - ETA: 0s - loss: 0.7580 - accuracy: 0.6579\n",
      "Epoch 25: saving model to model/keypoint_classifier\\keypoint_classifier.hdf5\n",
      "22/22 [==============================] - 0s 6ms/step - loss: 0.7513 - accuracy: 0.6637 - val_loss: 0.4854 - val_accuracy: 0.8424\n",
      "Epoch 26/1000\n",
      "21/22 [===========================>..] - ETA: 0s - loss: 0.7237 - accuracy: 0.6856\n",
      "Epoch 26: saving model to model/keypoint_classifier\\keypoint_classifier.hdf5\n",
      "22/22 [==============================] - 0s 5ms/step - loss: 0.7238 - accuracy: 0.6859 - val_loss: 0.4973 - val_accuracy: 0.8158\n",
      "Epoch 27/1000\n",
      "21/22 [===========================>..] - ETA: 0s - loss: 0.7218 - accuracy: 0.6819\n",
      "Epoch 27: saving model to model/keypoint_classifier\\keypoint_classifier.hdf5\n",
      "22/22 [==============================] - 0s 5ms/step - loss: 0.7227 - accuracy: 0.6811 - val_loss: 0.4744 - val_accuracy: 0.8135\n",
      "Epoch 28/1000\n",
      "18/22 [=======================>......] - ETA: 0s - loss: 0.7200 - accuracy: 0.6888\n",
      "Epoch 28: saving model to model/keypoint_classifier\\keypoint_classifier.hdf5\n",
      "22/22 [==============================] - 0s 6ms/step - loss: 0.7191 - accuracy: 0.6904 - val_loss: 0.4637 - val_accuracy: 0.8380\n",
      "Epoch 29/1000\n",
      "21/22 [===========================>..] - ETA: 0s - loss: 0.6875 - accuracy: 0.7016\n",
      "Epoch 29: saving model to model/keypoint_classifier\\keypoint_classifier.hdf5\n",
      "22/22 [==============================] - 0s 6ms/step - loss: 0.6877 - accuracy: 0.7015 - val_loss: 0.4385 - val_accuracy: 0.8291\n",
      "Epoch 30/1000\n",
      "18/22 [=======================>......] - ETA: 0s - loss: 0.7056 - accuracy: 0.6901\n",
      "Epoch 30: saving model to model/keypoint_classifier\\keypoint_classifier.hdf5\n",
      "22/22 [==============================] - 0s 6ms/step - loss: 0.7018 - accuracy: 0.6881 - val_loss: 0.4632 - val_accuracy: 0.8513\n",
      "Epoch 31/1000\n",
      "19/22 [========================>.....] - ETA: 0s - loss: 0.6881 - accuracy: 0.7011\n",
      "Epoch 31: saving model to model/keypoint_classifier\\keypoint_classifier.hdf5\n",
      "22/22 [==============================] - 0s 5ms/step - loss: 0.6922 - accuracy: 0.6993 - val_loss: 0.4326 - val_accuracy: 0.8646\n",
      "Epoch 32/1000\n",
      "20/22 [==========================>...] - ETA: 0s - loss: 0.6841 - accuracy: 0.7102\n",
      "Epoch 32: saving model to model/keypoint_classifier\\keypoint_classifier.hdf5\n",
      "22/22 [==============================] - 0s 5ms/step - loss: 0.6862 - accuracy: 0.7093 - val_loss: 0.4363 - val_accuracy: 0.8579\n",
      "Epoch 33/1000\n",
      "19/22 [========================>.....] - ETA: 0s - loss: 0.6720 - accuracy: 0.6953\n",
      "Epoch 33: saving model to model/keypoint_classifier\\keypoint_classifier.hdf5\n",
      "22/22 [==============================] - 0s 6ms/step - loss: 0.6759 - accuracy: 0.6933 - val_loss: 0.4826 - val_accuracy: 0.8080\n",
      "Epoch 34/1000\n",
      "20/22 [==========================>...] - ETA: 0s - loss: 0.6896 - accuracy: 0.6941\n",
      "Epoch 34: saving model to model/keypoint_classifier\\keypoint_classifier.hdf5\n",
      "22/22 [==============================] - 0s 6ms/step - loss: 0.6858 - accuracy: 0.6978 - val_loss: 0.4563 - val_accuracy: 0.8568\n",
      "Epoch 35/1000\n",
      "21/22 [===========================>..] - ETA: 0s - loss: 0.6924 - accuracy: 0.6972\n",
      "Epoch 35: saving model to model/keypoint_classifier\\keypoint_classifier.hdf5\n",
      "22/22 [==============================] - 0s 5ms/step - loss: 0.6914 - accuracy: 0.6974 - val_loss: 0.4398 - val_accuracy: 0.8568\n",
      "Epoch 36/1000\n",
      "19/22 [========================>.....] - ETA: 0s - loss: 0.6777 - accuracy: 0.7048\n",
      "Epoch 36: saving model to model/keypoint_classifier\\keypoint_classifier.hdf5\n",
      "22/22 [==============================] - 0s 5ms/step - loss: 0.6801 - accuracy: 0.7037 - val_loss: 0.4416 - val_accuracy: 0.8313\n",
      "Epoch 37/1000\n",
      "20/22 [==========================>...] - ETA: 0s - loss: 0.6544 - accuracy: 0.7176\n",
      "Epoch 37: saving model to model/keypoint_classifier\\keypoint_classifier.hdf5\n",
      "22/22 [==============================] - 0s 5ms/step - loss: 0.6505 - accuracy: 0.7174 - val_loss: 0.4166 - val_accuracy: 0.8757\n",
      "Epoch 38/1000\n",
      "21/22 [===========================>..] - ETA: 0s - loss: 0.6796 - accuracy: 0.7080\n",
      "Epoch 38: saving model to model/keypoint_classifier\\keypoint_classifier.hdf5\n",
      "22/22 [==============================] - 0s 5ms/step - loss: 0.6795 - accuracy: 0.7078 - val_loss: 0.4277 - val_accuracy: 0.8479\n",
      "Epoch 39/1000\n",
      "21/22 [===========================>..] - ETA: 0s - loss: 0.6387 - accuracy: 0.7355\n",
      "Epoch 39: saving model to model/keypoint_classifier\\keypoint_classifier.hdf5\n",
      "22/22 [==============================] - 0s 5ms/step - loss: 0.6386 - accuracy: 0.7359 - val_loss: 0.3808 - val_accuracy: 0.8779\n",
      "Epoch 40/1000\n",
      "20/22 [==========================>...] - ETA: 0s - loss: 0.6473 - accuracy: 0.7312\n",
      "Epoch 40: saving model to model/keypoint_classifier\\keypoint_classifier.hdf5\n",
      "22/22 [==============================] - 0s 5ms/step - loss: 0.6479 - accuracy: 0.7326 - val_loss: 0.3947 - val_accuracy: 0.8779\n",
      "Epoch 41/1000\n",
      "21/22 [===========================>..] - ETA: 0s - loss: 0.6497 - accuracy: 0.7266\n",
      "Epoch 41: saving model to model/keypoint_classifier\\keypoint_classifier.hdf5\n",
      "22/22 [==============================] - 0s 5ms/step - loss: 0.6511 - accuracy: 0.7256 - val_loss: 0.3944 - val_accuracy: 0.8901\n",
      "Epoch 42/1000\n",
      "20/22 [==========================>...] - ETA: 0s - loss: 0.6457 - accuracy: 0.7180\n",
      "Epoch 42: saving model to model/keypoint_classifier\\keypoint_classifier.hdf5\n",
      "22/22 [==============================] - 0s 6ms/step - loss: 0.6404 - accuracy: 0.7215 - val_loss: 0.3997 - val_accuracy: 0.8768\n",
      "Epoch 43/1000\n",
      "19/22 [========================>.....] - ETA: 0s - loss: 0.6360 - accuracy: 0.7274\n",
      "Epoch 43: saving model to model/keypoint_classifier\\keypoint_classifier.hdf5\n",
      "22/22 [==============================] - 0s 5ms/step - loss: 0.6274 - accuracy: 0.7278 - val_loss: 0.4008 - val_accuracy: 0.8457\n",
      "Epoch 44/1000\n",
      "21/22 [===========================>..] - ETA: 0s - loss: 0.6303 - accuracy: 0.7299\n",
      "Epoch 44: saving model to model/keypoint_classifier\\keypoint_classifier.hdf5\n",
      "22/22 [==============================] - 0s 5ms/step - loss: 0.6305 - accuracy: 0.7296 - val_loss: 0.3873 - val_accuracy: 0.8735\n",
      "Epoch 45/1000\n",
      "20/22 [==========================>...] - ETA: 0s - loss: 0.6427 - accuracy: 0.7180\n",
      "Epoch 45: saving model to model/keypoint_classifier\\keypoint_classifier.hdf5\n",
      "22/22 [==============================] - 0s 5ms/step - loss: 0.6402 - accuracy: 0.7163 - val_loss: 0.3982 - val_accuracy: 0.8923\n",
      "Epoch 46/1000\n",
      "20/22 [==========================>...] - ETA: 0s - loss: 0.6418 - accuracy: 0.7215\n",
      "Epoch 46: saving model to model/keypoint_classifier\\keypoint_classifier.hdf5\n",
      "22/22 [==============================] - 0s 5ms/step - loss: 0.6388 - accuracy: 0.7241 - val_loss: 0.3946 - val_accuracy: 0.9023\n",
      "Epoch 47/1000\n",
      "20/22 [==========================>...] - ETA: 0s - loss: 0.6398 - accuracy: 0.7297\n",
      "Epoch 47: saving model to model/keypoint_classifier\\keypoint_classifier.hdf5\n",
      "22/22 [==============================] - 0s 5ms/step - loss: 0.6447 - accuracy: 0.7281 - val_loss: 0.3838 - val_accuracy: 0.9012\n",
      "Epoch 48/1000\n",
      "20/22 [==========================>...] - ETA: 0s - loss: 0.6340 - accuracy: 0.7227\n",
      "Epoch 48: saving model to model/keypoint_classifier\\keypoint_classifier.hdf5\n",
      "22/22 [==============================] - 0s 5ms/step - loss: 0.6363 - accuracy: 0.7233 - val_loss: 0.3918 - val_accuracy: 0.9034\n",
      "Epoch 49/1000\n",
      "21/22 [===========================>..] - ETA: 0s - loss: 0.6088 - accuracy: 0.7448\n",
      "Epoch 49: saving model to model/keypoint_classifier\\keypoint_classifier.hdf5\n",
      "22/22 [==============================] - 0s 5ms/step - loss: 0.6091 - accuracy: 0.7441 - val_loss: 0.3596 - val_accuracy: 0.9068\n",
      "Epoch 50/1000\n",
      "18/22 [=======================>......] - ETA: 0s - loss: 0.6224 - accuracy: 0.7227\n",
      "Epoch 50: saving model to model/keypoint_classifier\\keypoint_classifier.hdf5\n",
      "22/22 [==============================] - 0s 6ms/step - loss: 0.6227 - accuracy: 0.7241 - val_loss: 0.3700 - val_accuracy: 0.9001\n",
      "Epoch 51/1000\n",
      "19/22 [========================>.....] - ETA: 0s - loss: 0.6136 - accuracy: 0.7299\n",
      "Epoch 51: saving model to model/keypoint_classifier\\keypoint_classifier.hdf5\n",
      "22/22 [==============================] - 0s 6ms/step - loss: 0.6154 - accuracy: 0.7341 - val_loss: 0.3811 - val_accuracy: 0.8857\n",
      "Epoch 52/1000\n",
      "20/22 [==========================>...] - ETA: 0s - loss: 0.6164 - accuracy: 0.7352\n",
      "Epoch 52: saving model to model/keypoint_classifier\\keypoint_classifier.hdf5\n",
      "22/22 [==============================] - 0s 6ms/step - loss: 0.6170 - accuracy: 0.7344 - val_loss: 0.3647 - val_accuracy: 0.8968\n",
      "Epoch 53/1000\n",
      "20/22 [==========================>...] - ETA: 0s - loss: 0.6226 - accuracy: 0.7312\n",
      "Epoch 53: saving model to model/keypoint_classifier\\keypoint_classifier.hdf5\n",
      "22/22 [==============================] - 0s 5ms/step - loss: 0.6174 - accuracy: 0.7348 - val_loss: 0.3751 - val_accuracy: 0.9168\n",
      "Epoch 54/1000\n",
      "17/22 [======================>.......] - ETA: 0s - loss: 0.5848 - accuracy: 0.7564\n",
      "Epoch 54: saving model to model/keypoint_classifier\\keypoint_classifier.hdf5\n",
      "22/22 [==============================] - 0s 6ms/step - loss: 0.5993 - accuracy: 0.7496 - val_loss: 0.3363 - val_accuracy: 0.9190\n",
      "Epoch 55/1000\n",
      "21/22 [===========================>..] - ETA: 0s - loss: 0.5888 - accuracy: 0.7619\n",
      "Epoch 55: saving model to model/keypoint_classifier\\keypoint_classifier.hdf5\n",
      "22/22 [==============================] - 0s 5ms/step - loss: 0.5882 - accuracy: 0.7619 - val_loss: 0.3482 - val_accuracy: 0.9068\n",
      "Epoch 56/1000\n",
      "20/22 [==========================>...] - ETA: 0s - loss: 0.6002 - accuracy: 0.7352\n",
      "Epoch 56: saving model to model/keypoint_classifier\\keypoint_classifier.hdf5\n",
      "22/22 [==============================] - 0s 6ms/step - loss: 0.5971 - accuracy: 0.7370 - val_loss: 0.3576 - val_accuracy: 0.9201\n",
      "Epoch 57/1000\n",
      "19/22 [========================>.....] - ETA: 0s - loss: 0.5813 - accuracy: 0.7496\n",
      "Epoch 57: saving model to model/keypoint_classifier\\keypoint_classifier.hdf5\n",
      "22/22 [==============================] - 0s 6ms/step - loss: 0.5763 - accuracy: 0.7526 - val_loss: 0.3556 - val_accuracy: 0.9101\n",
      "Epoch 58/1000\n",
      "18/22 [=======================>......] - ETA: 0s - loss: 0.5889 - accuracy: 0.7522\n",
      "Epoch 58: saving model to model/keypoint_classifier\\keypoint_classifier.hdf5\n",
      "22/22 [==============================] - 0s 6ms/step - loss: 0.5866 - accuracy: 0.7541 - val_loss: 0.3463 - val_accuracy: 0.9123\n",
      "Epoch 59/1000\n",
      "19/22 [========================>.....] - ETA: 0s - loss: 0.6052 - accuracy: 0.7397\n",
      "Epoch 59: saving model to model/keypoint_classifier\\keypoint_classifier.hdf5\n",
      "22/22 [==============================] - 0s 6ms/step - loss: 0.6060 - accuracy: 0.7407 - val_loss: 0.3434 - val_accuracy: 0.9423\n",
      "Epoch 60/1000\n",
      "21/22 [===========================>..] - ETA: 0s - loss: 0.5827 - accuracy: 0.7463\n",
      "Epoch 60: saving model to model/keypoint_classifier\\keypoint_classifier.hdf5\n",
      "22/22 [==============================] - 0s 6ms/step - loss: 0.5819 - accuracy: 0.7467 - val_loss: 0.3360 - val_accuracy: 0.9256\n",
      "Epoch 61/1000\n",
      "20/22 [==========================>...] - ETA: 0s - loss: 0.5674 - accuracy: 0.7656\n",
      "Epoch 61: saving model to model/keypoint_classifier\\keypoint_classifier.hdf5\n",
      "22/22 [==============================] - 0s 5ms/step - loss: 0.5675 - accuracy: 0.7637 - val_loss: 0.3227 - val_accuracy: 0.9134\n",
      "Epoch 62/1000\n",
      "18/22 [=======================>......] - ETA: 0s - loss: 0.6015 - accuracy: 0.7405\n",
      "Epoch 62: saving model to model/keypoint_classifier\\keypoint_classifier.hdf5\n",
      "22/22 [==============================] - 0s 7ms/step - loss: 0.6062 - accuracy: 0.7448 - val_loss: 0.3508 - val_accuracy: 0.9567\n",
      "Epoch 63/1000\n",
      "17/22 [======================>.......] - ETA: 0s - loss: 0.5937 - accuracy: 0.7472\n",
      "Epoch 63: saving model to model/keypoint_classifier\\keypoint_classifier.hdf5\n",
      "22/22 [==============================] - 0s 6ms/step - loss: 0.6002 - accuracy: 0.7474 - val_loss: 0.3763 - val_accuracy: 0.9290\n",
      "Epoch 64/1000\n",
      "20/22 [==========================>...] - ETA: 0s - loss: 0.5955 - accuracy: 0.7492\n",
      "Epoch 64: saving model to model/keypoint_classifier\\keypoint_classifier.hdf5\n",
      "22/22 [==============================] - 0s 5ms/step - loss: 0.6007 - accuracy: 0.7467 - val_loss: 0.3665 - val_accuracy: 0.9345\n",
      "Epoch 65/1000\n",
      "19/22 [========================>.....] - ETA: 0s - loss: 0.5745 - accuracy: 0.7582\n",
      "Epoch 65: saving model to model/keypoint_classifier\\keypoint_classifier.hdf5\n",
      "22/22 [==============================] - 0s 6ms/step - loss: 0.5790 - accuracy: 0.7556 - val_loss: 0.3231 - val_accuracy: 0.9312\n",
      "Epoch 66/1000\n",
      "19/22 [========================>.....] - ETA: 0s - loss: 0.5736 - accuracy: 0.7611\n",
      "Epoch 66: saving model to model/keypoint_classifier\\keypoint_classifier.hdf5\n",
      "22/22 [==============================] - 0s 6ms/step - loss: 0.5757 - accuracy: 0.7604 - val_loss: 0.3261 - val_accuracy: 0.9134\n",
      "Epoch 67/1000\n",
      "20/22 [==========================>...] - ETA: 0s - loss: 0.6049 - accuracy: 0.7461\n",
      "Epoch 67: saving model to model/keypoint_classifier\\keypoint_classifier.hdf5\n",
      "22/22 [==============================] - 0s 6ms/step - loss: 0.6014 - accuracy: 0.7493 - val_loss: 0.3404 - val_accuracy: 0.9156\n",
      "Epoch 68/1000\n",
      "19/22 [========================>.....] - ETA: 0s - loss: 0.6091 - accuracy: 0.7475\n",
      "Epoch 68: saving model to model/keypoint_classifier\\keypoint_classifier.hdf5\n",
      "22/22 [==============================] - 0s 6ms/step - loss: 0.6097 - accuracy: 0.7426 - val_loss: 0.3731 - val_accuracy: 0.9057\n",
      "Epoch 69/1000\n",
      "19/22 [========================>.....] - ETA: 0s - loss: 0.5745 - accuracy: 0.7455\n",
      "Epoch 69: saving model to model/keypoint_classifier\\keypoint_classifier.hdf5\n",
      "22/22 [==============================] - 0s 6ms/step - loss: 0.5737 - accuracy: 0.7485 - val_loss: 0.3307 - val_accuracy: 0.9168\n",
      "Epoch 70/1000\n",
      "19/22 [========================>.....] - ETA: 0s - loss: 0.5682 - accuracy: 0.7553\n",
      "Epoch 70: saving model to model/keypoint_classifier\\keypoint_classifier.hdf5\n",
      "22/22 [==============================] - 0s 6ms/step - loss: 0.5708 - accuracy: 0.7570 - val_loss: 0.3317 - val_accuracy: 0.9589\n",
      "Epoch 71/1000\n",
      "20/22 [==========================>...] - ETA: 0s - loss: 0.5806 - accuracy: 0.7566\n",
      "Epoch 71: saving model to model/keypoint_classifier\\keypoint_classifier.hdf5\n",
      "22/22 [==============================] - 0s 6ms/step - loss: 0.5815 - accuracy: 0.7556 - val_loss: 0.3468 - val_accuracy: 0.9501\n",
      "Epoch 72/1000\n",
      "18/22 [=======================>......] - ETA: 0s - loss: 0.5644 - accuracy: 0.7648\n",
      "Epoch 72: saving model to model/keypoint_classifier\\keypoint_classifier.hdf5\n",
      "22/22 [==============================] - 0s 6ms/step - loss: 0.5730 - accuracy: 0.7581 - val_loss: 0.3207 - val_accuracy: 0.9434\n",
      "Epoch 73/1000\n",
      "18/22 [=======================>......] - ETA: 0s - loss: 0.5765 - accuracy: 0.7661\n",
      "Epoch 73: saving model to model/keypoint_classifier\\keypoint_classifier.hdf5\n",
      "22/22 [==============================] - 0s 6ms/step - loss: 0.5728 - accuracy: 0.7667 - val_loss: 0.3289 - val_accuracy: 0.9012\n",
      "Epoch 74/1000\n",
      "19/22 [========================>.....] - ETA: 0s - loss: 0.5448 - accuracy: 0.7714\n",
      "Epoch 74: saving model to model/keypoint_classifier\\keypoint_classifier.hdf5\n",
      "22/22 [==============================] - 0s 6ms/step - loss: 0.5523 - accuracy: 0.7678 - val_loss: 0.3268 - val_accuracy: 0.9545\n",
      "Epoch 75/1000\n",
      "21/22 [===========================>..] - ETA: 0s - loss: 0.5672 - accuracy: 0.7563\n",
      "Epoch 75: saving model to model/keypoint_classifier\\keypoint_classifier.hdf5\n",
      "22/22 [==============================] - 0s 6ms/step - loss: 0.5672 - accuracy: 0.7567 - val_loss: 0.3186 - val_accuracy: 0.9434\n",
      "Epoch 76/1000\n",
      "19/22 [========================>.....] - ETA: 0s - loss: 0.5638 - accuracy: 0.7636\n",
      "Epoch 76: saving model to model/keypoint_classifier\\keypoint_classifier.hdf5\n",
      "22/22 [==============================] - 0s 6ms/step - loss: 0.5721 - accuracy: 0.7604 - val_loss: 0.3078 - val_accuracy: 0.9512\n",
      "Epoch 77/1000\n",
      "20/22 [==========================>...] - ETA: 0s - loss: 0.5535 - accuracy: 0.7730\n",
      "Epoch 77: saving model to model/keypoint_classifier\\keypoint_classifier.hdf5\n",
      "22/22 [==============================] - 0s 5ms/step - loss: 0.5544 - accuracy: 0.7730 - val_loss: 0.3265 - val_accuracy: 0.9467\n",
      "Epoch 78/1000\n",
      "19/22 [========================>.....] - ETA: 0s - loss: 0.5744 - accuracy: 0.7615\n",
      "Epoch 78: saving model to model/keypoint_classifier\\keypoint_classifier.hdf5\n",
      "22/22 [==============================] - 0s 6ms/step - loss: 0.5673 - accuracy: 0.7644 - val_loss: 0.3149 - val_accuracy: 0.9367\n",
      "Epoch 79/1000\n",
      "20/22 [==========================>...] - ETA: 0s - loss: 0.5580 - accuracy: 0.7625\n",
      "Epoch 79: saving model to model/keypoint_classifier\\keypoint_classifier.hdf5\n",
      "22/22 [==============================] - 0s 6ms/step - loss: 0.5651 - accuracy: 0.7604 - val_loss: 0.3196 - val_accuracy: 0.9434\n",
      "Epoch 80/1000\n",
      "21/22 [===========================>..] - ETA: 0s - loss: 0.5604 - accuracy: 0.7656\n",
      "Epoch 80: saving model to model/keypoint_classifier\\keypoint_classifier.hdf5\n",
      "22/22 [==============================] - 0s 5ms/step - loss: 0.5604 - accuracy: 0.7656 - val_loss: 0.3334 - val_accuracy: 0.9290\n",
      "Epoch 81/1000\n",
      "18/22 [=======================>......] - ETA: 0s - loss: 0.5694 - accuracy: 0.7609\n",
      "Epoch 81: saving model to model/keypoint_classifier\\keypoint_classifier.hdf5\n",
      "22/22 [==============================] - 0s 6ms/step - loss: 0.5666 - accuracy: 0.7619 - val_loss: 0.3248 - val_accuracy: 0.9445\n",
      "Epoch 82/1000\n",
      "18/22 [=======================>......] - ETA: 0s - loss: 0.5726 - accuracy: 0.7587\n",
      "Epoch 82: saving model to model/keypoint_classifier\\keypoint_classifier.hdf5\n",
      "22/22 [==============================] - 0s 6ms/step - loss: 0.5727 - accuracy: 0.7585 - val_loss: 0.3143 - val_accuracy: 0.9567\n",
      "Epoch 83/1000\n",
      "18/22 [=======================>......] - ETA: 0s - loss: 0.5519 - accuracy: 0.7652\n",
      "Epoch 83: saving model to model/keypoint_classifier\\keypoint_classifier.hdf5\n",
      "22/22 [==============================] - 0s 6ms/step - loss: 0.5507 - accuracy: 0.7719 - val_loss: 0.3214 - val_accuracy: 0.9145\n",
      "Epoch 84/1000\n",
      "20/22 [==========================>...] - ETA: 0s - loss: 0.5519 - accuracy: 0.7680\n",
      "Epoch 84: saving model to model/keypoint_classifier\\keypoint_classifier.hdf5\n",
      "22/22 [==============================] - 0s 6ms/step - loss: 0.5521 - accuracy: 0.7667 - val_loss: 0.3152 - val_accuracy: 0.9623\n",
      "Epoch 85/1000\n",
      "18/22 [=======================>......] - ETA: 0s - loss: 0.5637 - accuracy: 0.7582\n",
      "Epoch 85: saving model to model/keypoint_classifier\\keypoint_classifier.hdf5\n",
      "22/22 [==============================] - 0s 6ms/step - loss: 0.5587 - accuracy: 0.7630 - val_loss: 0.3568 - val_accuracy: 0.9578\n",
      "Epoch 86/1000\n",
      "19/22 [========================>.....] - ETA: 0s - loss: 0.5354 - accuracy: 0.7673\n",
      "Epoch 86: saving model to model/keypoint_classifier\\keypoint_classifier.hdf5\n",
      "22/22 [==============================] - 0s 6ms/step - loss: 0.5318 - accuracy: 0.7689 - val_loss: 0.3206 - val_accuracy: 0.9456\n",
      "Epoch 87/1000\n",
      "19/22 [========================>.....] - ETA: 0s - loss: 0.5714 - accuracy: 0.7578\n",
      "Epoch 87: saving model to model/keypoint_classifier\\keypoint_classifier.hdf5\n",
      "22/22 [==============================] - 0s 6ms/step - loss: 0.5667 - accuracy: 0.7607 - val_loss: 0.3296 - val_accuracy: 0.9456\n",
      "Epoch 88/1000\n",
      "18/22 [=======================>......] - ETA: 0s - loss: 0.5306 - accuracy: 0.7786\n",
      "Epoch 88: saving model to model/keypoint_classifier\\keypoint_classifier.hdf5\n",
      "22/22 [==============================] - 0s 6ms/step - loss: 0.5360 - accuracy: 0.7774 - val_loss: 0.3146 - val_accuracy: 0.9667\n",
      "Epoch 89/1000\n",
      "19/22 [========================>.....] - ETA: 0s - loss: 0.5364 - accuracy: 0.7763\n",
      "Epoch 89: saving model to model/keypoint_classifier\\keypoint_classifier.hdf5\n",
      "22/22 [==============================] - 0s 6ms/step - loss: 0.5462 - accuracy: 0.7737 - val_loss: 0.3436 - val_accuracy: 0.9512\n",
      "Epoch 90/1000\n",
      "20/22 [==========================>...] - ETA: 0s - loss: 0.5400 - accuracy: 0.7676\n",
      "Epoch 90: saving model to model/keypoint_classifier\\keypoint_classifier.hdf5\n",
      "22/22 [==============================] - 0s 6ms/step - loss: 0.5413 - accuracy: 0.7663 - val_loss: 0.3399 - val_accuracy: 0.9334\n",
      "Epoch 91/1000\n",
      "18/22 [=======================>......] - ETA: 0s - loss: 0.5274 - accuracy: 0.7760\n",
      "Epoch 91: saving model to model/keypoint_classifier\\keypoint_classifier.hdf5\n",
      "22/22 [==============================] - 0s 6ms/step - loss: 0.5324 - accuracy: 0.7756 - val_loss: 0.3282 - val_accuracy: 0.9412\n",
      "Epoch 92/1000\n",
      "21/22 [===========================>..] - ETA: 0s - loss: 0.5275 - accuracy: 0.7902\n",
      "Epoch 92: saving model to model/keypoint_classifier\\keypoint_classifier.hdf5\n",
      "22/22 [==============================] - 0s 5ms/step - loss: 0.5264 - accuracy: 0.7907 - val_loss: 0.3268 - val_accuracy: 0.9556\n",
      "Epoch 93/1000\n",
      "19/22 [========================>.....] - ETA: 0s - loss: 0.5075 - accuracy: 0.7850\n",
      "Epoch 93: saving model to model/keypoint_classifier\\keypoint_classifier.hdf5\n",
      "22/22 [==============================] - 0s 5ms/step - loss: 0.5121 - accuracy: 0.7844 - val_loss: 0.3130 - val_accuracy: 0.9478\n",
      "Epoch 94/1000\n",
      "19/22 [========================>.....] - ETA: 0s - loss: 0.5313 - accuracy: 0.7759\n",
      "Epoch 94: saving model to model/keypoint_classifier\\keypoint_classifier.hdf5\n",
      "22/22 [==============================] - 0s 5ms/step - loss: 0.5285 - accuracy: 0.7785 - val_loss: 0.3114 - val_accuracy: 0.9689\n",
      "Epoch 95/1000\n",
      "18/22 [=======================>......] - ETA: 0s - loss: 0.5521 - accuracy: 0.7734\n",
      "Epoch 95: saving model to model/keypoint_classifier\\keypoint_classifier.hdf5\n",
      "22/22 [==============================] - 0s 6ms/step - loss: 0.5458 - accuracy: 0.7730 - val_loss: 0.3423 - val_accuracy: 0.9545\n",
      "Epoch 96/1000\n",
      "19/22 [========================>.....] - ETA: 0s - loss: 0.5218 - accuracy: 0.7743\n",
      "Epoch 96: saving model to model/keypoint_classifier\\keypoint_classifier.hdf5\n",
      "22/22 [==============================] - 0s 6ms/step - loss: 0.5199 - accuracy: 0.7763 - val_loss: 0.3297 - val_accuracy: 0.9589\n",
      "Epoch 96: early stopping\n"
     ]
    },
    {
     "data": {
      "text/plain": [
       "<keras.callbacks.History at 0x13f3f6d37c0>"
      ]
     },
     "execution_count": 370,
     "metadata": {},
     "output_type": "execute_result"
    }
   ],
   "source": [
    "model.fit(\n",
    "    X_train,\n",
    "    y_train,\n",
    "    epochs=1000,\n",
    "    batch_size=128,\n",
    "    validation_data=(X_test, y_test),\n",
    "    callbacks=[cp_callback, es_callback]\n",
    ")"
   ]
  },
  {
   "cell_type": "code",
   "execution_count": 371,
   "metadata": {},
   "outputs": [
    {
     "name": "stdout",
     "output_type": "stream",
     "text": [
      "8/8 [==============================] - 0s 1ms/step - loss: 0.3297 - accuracy: 0.9589\n"
     ]
    }
   ],
   "source": [
    "# モデル評価\n",
    "val_loss, val_acc = model.evaluate(X_test, y_test, batch_size=128)"
   ]
  },
  {
   "cell_type": "code",
   "execution_count": 372,
   "metadata": {},
   "outputs": [],
   "source": [
    "# 保存したモデルのロード\n",
    "model = tf.keras.models.load_model(model_save_path)"
   ]
  },
  {
   "cell_type": "code",
   "execution_count": 373,
   "metadata": {},
   "outputs": [
    {
     "name": "stdout",
     "output_type": "stream",
     "text": [
      "[9.8869252e-01 5.7282443e-05 7.4989352e-05 1.1175262e-02]\n",
      "0\n"
     ]
    }
   ],
   "source": [
    "# 推論テスト\n",
    "predict_result = model.predict(np.array([X_test[0]]))\n",
    "print(np.squeeze(predict_result))\n",
    "print(np.argmax(np.squeeze(predict_result)))"
   ]
  },
  {
   "cell_type": "markdown",
   "metadata": {},
   "source": [
    "# 混同行列"
   ]
  },
  {
   "cell_type": "code",
   "execution_count": 374,
   "metadata": {},
   "outputs": [
    {
     "data": {
      "image/png": "[encoded data removed]",
      "text/plain": [
       "<Figure size 504x432 with 2 Axes>"
      ]
     },
     "metadata": {
      "needs_background": "light"
     },
     "output_type": "display_data"
    },
    {
     "name": "stdout",
     "output_type": "stream",
     "text": [
      "Classification Report\n",
      "              precision    recall  f1-score   support\n",
      "\n",
      "           0       1.00      1.00      1.00       266\n",
      "           1       0.97      0.89      0.93       226\n",
      "           2       0.96      0.94      0.95       220\n",
      "           3       0.90      1.00      0.95       189\n",
      "\n",
      "    accuracy                           0.96       901\n",
      "   macro avg       0.96      0.96      0.96       901\n",
      "weighted avg       0.96      0.96      0.96       901\n",
      "\n"
     ]
    }
   ],
   "source": [
    "import pandas as pd\n",
    "import seaborn as sns\n",
    "import matplotlib.pyplot as plt\n",
    "from sklearn.metrics import confusion_matrix, classification_report\n",
    "\n",
    "def print_confusion_matrix(y_true, y_pred, report=True):\n",
    "    labels = sorted(list(set(y_true)))\n",
    "    cmx_data = confusion_matrix(y_true, y_pred, labels=labels)\n",
    "    \n",
    "    df_cmx = pd.DataFrame(cmx_data, index=labels, columns=labels)\n",
    " \n",
    "    fig, ax = plt.subplots(figsize=(7, 6))\n",
    "    sns.heatmap(df_cmx, annot=True, fmt='g' ,square=False)\n",
    "    ax.set_ylim(len(set(y_true)), 0)\n",
    "    plt.show()\n",
    "    \n",
    "    if report:\n",
    "        print('Classification Report')\n",
    "        print(classification_report(y_test, y_pred))\n",
    "\n",
    "Y_pred = model.predict(X_test)\n",
    "y_pred = np.argmax(Y_pred, axis=1)\n",
    "\n",
    "print_confusion_matrix(y_test, y_pred)"
   ]
  },
  {
   "cell_type": "markdown",
   "metadata": {},
   "source": [
    "# Tensorflow-Lite用のモデルへ変換"
   ]
  },
  {
   "cell_type": "code",
   "execution_count": 375,
   "metadata": {},
   "outputs": [],
   "source": [
    "# 推論専用のモデルとして保存\n",
    "model.save(model_save_path, include_optimizer=False)"
   ]
  },
  {
   "cell_type": "code",
   "execution_count": 376,
   "metadata": {},
   "outputs": [
    {
     "name": "stdout",
     "output_type": "stream",
     "text": [
      "INFO:tensorflow:Assets written to: C:\\Users\\you_a\\AppData\\Local\\Temp\\tmpl_07ez72\\assets\n"
     ]
    },
    {
     "name": "stderr",
     "output_type": "stream",
     "text": [
      "INFO:tensorflow:Assets written to: C:\\Users\\you_a\\AppData\\Local\\Temp\\tmpl_07ez72\\assets\n",
      "WARNING:absl:Buffer deduplication procedure will be skipped when flatbuffer library is not properly loaded\n"
     ]
    },
    {
     "data": {
      "text/plain": [
       "26976"
      ]
     },
     "execution_count": 376,
     "metadata": {},
     "output_type": "execute_result"
    }
   ],
   "source": [
    "# モデルを変換(量子化)\n",
    "tflite_save_path = 'model/keypoint_classifier/keypoint_classifier.tflite'\n",
    "\n",
    "converter = tf.lite.TFLiteConverter.from_keras_model(model)\n",
    "converter.optimizations = [tf.lite.Optimize.DEFAULT]\n",
    "tflite_quantized_model = converter.convert()\n",
    "\n",
    "open(tflite_save_path, 'wb').write(tflite_quantized_model)"
   ]
  },
  {
   "cell_type": "markdown",
   "metadata": {},
   "source": [
    "# 推論テスト"
   ]
  },
  {
   "cell_type": "code",
   "execution_count": 377,
   "metadata": {},
   "outputs": [],
   "source": [
    "interpreter = tf.lite.Interpreter(model_path=tflite_save_path)\n",
    "interpreter.allocate_tensors()"
   ]
  },
  {
   "cell_type": "code",
   "execution_count": 378,
   "metadata": {},
   "outputs": [],
   "source": [
    "# 入出力テンソルを取得\n",
    "input_details = interpreter.get_input_details()\n",
    "output_details = interpreter.get_output_details()"
   ]
  },
  {
   "cell_type": "code",
   "execution_count": 379,
   "metadata": {},
   "outputs": [],
   "source": [
    "interpreter.set_tensor(input_details[0]['index'], np.array([X_test[0]]))"
   ]
  },
  {
   "cell_type": "code",
   "execution_count": 380,
   "metadata": {
    "scrolled": true
   },
   "outputs": [
    {
     "name": "stdout",
     "output_type": "stream",
     "text": [
      "CPU times: total: 0 ns\n",
      "Wall time: 0 ns\n"
     ]
    }
   ],
   "source": [
    "%%time\n",
    "# 推論実施\n",
    "interpreter.invoke()\n",
    "tflite_results = interpreter.get_tensor(output_details[0]['index'])"
   ]
  },
  {
   "cell_type": "code",
   "execution_count": 381,
   "metadata": {},
   "outputs": [
    {
     "name": "stdout",
     "output_type": "stream",
     "text": [
      "[9.891150e-01 5.578701e-05 7.315134e-05 1.075607e-02]\n",
      "0\n"
     ]
    }
   ],
   "source": [
    "print(np.squeeze(tflite_results))\n",
    "print(np.argmax(np.squeeze(tflite_results)))"
   ]
  }
 ],
 "metadata": {
  "kernelspec": {
   "display_name": "Python 3",
   "language": "python",
   "name": "python3"
  },
  "language_info": {
   "codemirror_mode": {
    "name": "ipython",
    "version": 3
   },
   "file_extension": ".py",
   "mimetype": "text/x-python",
   "name": "python",
   "nbconvert_exporter": "python",
   "pygments_lexer": "ipython3",
   "version": "3.9.7"
  }
 },
 "nbformat": 4,
 "nbformat_minor": 4
}
